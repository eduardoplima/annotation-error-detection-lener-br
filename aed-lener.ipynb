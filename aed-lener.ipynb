{
  "cells": [
    {
      "cell_type": "markdown",
      "metadata": {
        "colab_type": "text",
        "id": "view-in-github"
      },
      "source": [
        "<a href=\"https://colab.research.google.com/github/eduardoplima/aed-lener-br/blob/main/aed-lener-br-en.ipynb\" target=\"_parent\"><img src=\"https://colab.research.google.com/assets/colab-badge.svg\" alt=\"Open In Colab\"/></a>"
      ]
    },
    {
      "cell_type": "markdown",
      "metadata": {
        "id": "7PC4E4Cm7rxn"
      },
      "source": [
        "# Annotation Error Detection in the LeNER-Br Dataset\n",
        "\n",
        "Annotation Error Detection is a technique used to identify inconsistencies or incorrect labels in manually annotated datasets. These errors can compromise the quality of models trained on this data for tasks such as Named Entity Recognition. Detection tools and methods aim to locate these flaws automatically, ensuring greater data reliability and better model performance.\n",
        "\n",
        "In this notebook, we will analyze the LeNER-Br dataset with the goal of identifying possible annotation errors using the confident learning technique, implemented by the Cleanlab library. This approach allows for the detection of incorrectly labeled instances based on the probabilistic predictions of a classifier, as we will see in the code below.\n",
        "\n",
        "The LeNER-Br dataset is a Portuguese corpus focused on Named Entity Recognition (NER) in Brazilian legal texts. Developed by Luz et al. (2018), LeNER-Br is composed exclusively of legal documents, such as judicial decisions and opinions, collected from various Brazilian courts. It was manually annotated to identify entities like people, organizations, locations, and temporal expressions, in addition to specific legal categories such as LEGISLATION and JURISPRUDENCE, which are not common in other Portuguese corpora. The complete description of the work can be read in the article available at https://teodecampos.github.io/LeNER-Br/luz_etal_propor2018.pdf"
      ]
    },
    {
      "cell_type": "markdown",
      "metadata": {
        "id": "qGQ4_EVNU4vJ"
      },
      "source": [
        "# Environment Setup\n",
        "\n",
        "We install the Cleanlab library, which will be used to apply confident learning techniques to identify possible annotation errors in the LeNER-Br dataset. Then, we import the necessary libraries for the rest of the analysis and download the training and test files directly from the official LeNER-Br repository. As the files are in CoNLL format, which organizes data in columns, it is necessary to convert them to the BIO (Beginning, Inside, Outside) format, widely used in Named Entity Recognition tasks, to facilitate subsequent processing.\n",
        "\n"
      ]
    },
    {
      "cell_type": "code",
      "execution_count": null,
      "metadata": {
        "id": "2S3U3tmOYnt4"
      },
      "outputs": [],
      "source": [
        "#!pip install cleanlab"
      ]
    },
    {
      "cell_type": "code",
      "execution_count": null,
      "metadata": {
        "id": "Zwf3b4wQNLzk"
      },
      "outputs": [],
      "source": [
        "import os\n",
        "import re\n",
        "import requests\n",
        "import zipfile\n",
        "import numpy as np\n",
        "import pandas as pd\n",
        "import torch\n",
        "\n",
        "from sklearn.model_selection import StratifiedKFold\n",
        "from sklearn.preprocessing import LabelEncoder\n",
        "from sklearn.linear_model import LogisticRegression\n",
        "from sklearn.metrics import accuracy_score\n",
        "from sklearn.linear_model import SGDClassifier\n",
        "\n",
        "from transformers import AutoTokenizer, AutoModel\n",
        "from cleanlab.filter import find_label_issues\n"
      ]
    },
    {
      "cell_type": "code",
      "execution_count": null,
      "metadata": {
        "colab": {
          "base_uri": "https://localhost:8080/"
        },
        "id": "9rNT2HBeMtm5",
        "outputId": "003d528e-5329-48a9-fa62-24fad8fedc80"
      },
      "outputs": [
        {
          "name": "stdout",
          "output_type": "stream",
          "text": [
            "--2025-05-17 21:16:22--  https://raw.githubusercontent.com/eduardoplima/aed-lener-br/refs/heads/main/leNER-Br/train/train.conll\n",
            "Resolving raw.githubusercontent.com (raw.githubusercontent.com)... 185.199.108.133, 185.199.109.133, 185.199.110.133, ...\n",
            "Connecting to raw.githubusercontent.com (raw.githubusercontent.com)|185.199.108.133|:443... connected.\n",
            "HTTP request sent, awaiting response... 200 OK\n",
            "Length: 2142199 (2.0M) [text/plain]\n",
            "Saving to: ‘train.conll’\n",
            "\n",
            "train.conll         100%[===================>]   2.04M  --.-KB/s    in 0.01s   \n",
            "\n",
            "2025-05-17 21:16:22 (198 MB/s) - ‘train.conll’ saved [2142199/2142199]\n",
            "\n",
            "--2025-05-17 21:16:22--  https://raw.githubusercontent.com/eduardoplima/aed-lener-br/refs/heads/main/leNER-Br/test/test.conll\n",
            "Resolving raw.githubusercontent.com (raw.githubusercontent.com)... 185.199.108.133, 185.199.109.133, 185.199.110.133, ...\n",
            "Connecting to raw.githubusercontent.com (raw.githubusercontent.com)|185.199.108.133|:443... connected.\n",
            "HTTP request sent, awaiting response... 200 OK\n",
            "Length: 438441 (428K) [text/plain]\n",
            "Saving to: ‘test.conll’\n",
            "\n",
            "test.conll          100%[===================>] 428.17K  --.-KB/s    in 0.004s  \n",
            "\n",
            "2025-05-17 21:16:23 (106 MB/s) - ‘test.conll’ saved [438441/438441]\n",
            "\n"
          ]
        }
      ],
      "source": [
        "!wget https://raw.githubusercontent.com/eduardoplima/aed-lener-br/refs/heads/main/leNER-Br/train/train.conll\n",
        "!wget https://raw.githubusercontent.com/eduardoplima/aed-lener-br/refs/heads/main/leNER-Br/test/test.conll\n"
      ]
    },
    {
      "cell_type": "code",
      "execution_count": null,
      "metadata": {
        "id": "ogVCKNIB6PyC"
      },
      "outputs": [],
      "source": [
        "NUM_FOLDS_CV = 5\n",
        "RANDOM_SEED = 43 # almost 42 😂 (and prime!)"
      ]
    },
    {
      "cell_type": "code",
      "execution_count": null,
      "metadata": {
        "id": "Oh7kICU9Y0rM"
      },
      "outputs": [],
      "source": [
        "def load_conll_lener(file_path):\n",
        "    sentences = []\n",
        "    current_sentence_tokens = []\n",
        "    current_sentence_labels = []\n",
        "\n",
        "    with open(file_path, 'r', encoding='utf-8') as f:\n",
        "        for line in f:\n",
        "          line = line.strip()\n",
        "          if line:\n",
        "              parts = line.split()\n",
        "              if len(parts) >= 2:\n",
        "                  token = parts[0]\n",
        "                  ner_tag = parts[-1]\n",
        "                  current_sentence_tokens.append(token)\n",
        "                  current_sentence_labels.append(ner_tag)\n",
        "              else:\n",
        "                  pass # Or handle malformed lines\n",
        "          else:\n",
        "              if current_sentence_tokens:\n",
        "                  sentences.append(list(zip(current_sentence_tokens, current_sentence_labels)))\n",
        "                  current_sentence_tokens = []\n",
        "                  current_sentence_labels = []\n",
        "\n",
        "        if current_sentence_tokens: # Add last sentence if file doesn't end with a blank line\n",
        "            sentences.append(list(zip(current_sentence_tokens, current_sentence_labels)))\n",
        "\n",
        "    return sentences"
      ]
    },
    {
      "cell_type": "code",
      "execution_count": null,
      "metadata": {
        "colab": {
          "base_uri": "https://localhost:8080/"
        },
        "id": "VLUrrOFwY8Ar",
        "outputId": "eadd224b-ccdc-40d8-dafa-9fd93a4b243e"
      },
      "outputs": [
        {
          "name": "stdout",
          "output_type": "stream",
          "text": [
            "\n",
            "Loaded 7827 sentences from train.conll.\n"
          ]
        }
      ],
      "source": [
        "training_sentences = load_conll_lener(\"train.conll\")\n",
        "print(f\"\\nLoaded {len(training_sentences)} sentences from train.conll.\")"
      ]
    },
    {
      "cell_type": "markdown",
      "metadata": {
        "id": "0lLHkMYcTlva"
      },
      "source": [
        "Below are some example sentences in BIO format."
      ]
    },
    {
      "cell_type": "code",
      "execution_count": null,
      "metadata": {
        "colab": {
          "base_uri": "https://localhost:8080/"
        },
        "id": "mEZezenubD0n",
        "outputId": "521c8b8d-a1ca-4ba3-c784-d3ec8f9eccc5"
      },
      "outputs": [
        {
          "name": "stdout",
          "output_type": "stream",
          "text": [
            "\n",
            "Example sentence:\n",
            "V.v\tO\n",
            "APELAÇÃO\tO\n",
            "CÍVEL\tO\n",
            "-\tO\n",
            "NULIDADE\tO\n",
            "PROCESSUAL\tO\n",
            "-\tO\n",
            "INTIMAÇÃO\tO\n",
            "DO\tO\n",
            "MINISTÉRIO\tB-ORGANIZACAO\n",
            "PÚBLICO\tI-ORGANIZACAO\n",
            "-\tO\n",
            "INCAPAZ\tO\n",
            "ACOMPANHADA\tO\n",
            "DE\tO\n",
            "REPRESENTANTE\tO\n",
            "LEGAL\tO\n",
            "E\tO\n",
            "DE\tO\n",
            "ADVOGADO\tO\n",
            "-\tO\n",
            "EXERCÍCIO\tO\n",
            "DO\tO\n",
            "CONTRADITÓRIO\tO\n",
            "E\tO\n",
            "DA\tO\n",
            "AMPLA\tO\n",
            "DEFESA\tO\n",
            "-\tO\n",
            "AUSÊNCIA\tO\n",
            "DE\tO\n",
            "PREJUÍZOS\tO\n",
            "-\tO\n",
            "VÍCIO\tO\n",
            "AFASTADO\tO\n",
            "-\tO\n",
            "IMPROCEDÊNCIA\tO\n",
            "DO\tO\n",
            "PEDIDO\tO\n",
            "-\tO\n",
            "INEXISTÊNCIA\tO\n",
            "DE\tO\n",
            "PROVA\tO\n",
            "QUANTO\tO\n",
            "AO\tO\n",
            "FATO\tO\n",
            "CONSTITUTIVO\tO\n",
            "DO\tO\n",
            "DIREITO\tO\n",
            ".\tO\n"
          ]
        }
      ],
      "source": [
        "print(\"\\nExample sentence:\")\n",
        "if len(training_sentences) > 5:\n",
        "    for token, label in training_sentences[5][-50:]:\n",
        "        print(f\"{token}\\t{label}\")"
      ]
    },
    {
      "cell_type": "markdown",
      "metadata": {
        "id": "a2PxuZmG0hUc"
      },
      "source": [
        "# Token Extraction\n",
        "\n",
        "As we saw, the extracted sentences are organized into tuples of tokens and their respective BIO labels. The goal is to extract features for each token from our training sentences using a BERT model via Hugging Face: in this case, neuralmind/bert-large-portuguese-cased. We explicitly define a maximum size of 512, the standard size for the chosen BERT model, to avoid OverflowError.\n",
        "\n",
        "The process followed for each sentence is as follows: first, we extract the token texts. Then, we use `tokenizer_hf` to convert these texts into a format that the BERT model understands, specifying that the input is already divided into words (is_split_into_words=True) and moving the data to the processing device (CPU or GPU). With the inputs ready, we pass them through model_hf to obtain the \"hidden states\" of the last layer, which are the contextual embeddings for each subword generated by the tokenizer. Since BERT works with subwords, we need to align these embeddings back to our original tokens. For this, we use the word_ids provided by the tokenizer and, for each original token, we calculate the average of the embeddings of its constituent subwords. These mean vectors are then added to our final features_tokens list, numerically representing each word in our corpus.\n",
        "\n"
      ]
    },
    {
      "cell_type": "code",
      "execution_count": null,
      "metadata": {
        "colab": {
          "base_uri": "https://localhost:8080/",
          "height": 209
        },
        "id": "uuhNSeqc5SJo",
        "outputId": "a253eaff-4b81-4042-e9c5-6ec16d109ca2"
      },
      "outputs": [
        {
          "data": {
            "text/plain": [
              "tokenizer_config.json:   0%|          | 0.00/155 [00:00<?, ?B/s]"
            ]
          },
          "metadata": {},
          "output_type": "display_data"
        },
        {
          "data": {
            "text/plain": [
              "config.json:   0%|          | 0.00/648 [00:00<?, ?B/s]"
            ]
          },
          "metadata": {},
          "output_type": "display_data"
        },
        {
          "data": {
            "text/plain": [
              "vocab.txt:   0%|          | 0.00/210k [00:00<?, ?B/s]"
            ]
          },
          "metadata": {},
          "output_type": "display_data"
        },
        {
          "data": {
            "text/plain": [
              "added_tokens.json:   0%|          | 0.00/2.00 [00:00<?, ?B/s]"
            ]
          },
          "metadata": {},
          "output_type": "display_data"
        },
        {
          "data": {
            "text/plain": [
              "special_tokens_map.json:   0%|          | 0.00/112 [00:00<?, ?B/s]"
            ]
          },
          "metadata": {},
          "output_type": "display_data"
        },
        {
          "data": {
            "text/plain": [
              "pytorch_model.bin:   0%|          | 0.00/1.34G [00:00<?, ?B/s]"
            ]
          },
          "metadata": {},
          "output_type": "display_data"
        }
      ],
      "source": [
        "hf_model_name = \"neuralmind/bert-large-portuguese-cased\"\n",
        "\n",
        "tokenizer_hf = AutoTokenizer.from_pretrained(hf_model_name)\n",
        "model_hf = AutoModel.from_pretrained(hf_model_name)"
      ]
    },
    {
      "cell_type": "code",
      "execution_count": null,
      "metadata": {
        "colab": {
          "base_uri": "https://localhost:8080/"
        },
        "id": "C0Hdwt7Uau6N",
        "outputId": "fb9002a8-ec20-4018-a2e6-47669ffa4ade"
      },
      "outputs": [
        {
          "name": "stdout",
          "output_type": "stream",
          "text": [
            "\n",
            "Total tokens in the training data: 229277\n",
            "Unique LeNER-Br labels: ['B-JURISPRUDENCIA', 'B-LEGISLACAO', 'B-LOCAL', 'B-ORGANIZACAO', 'B-PESSOA', 'B-TEMPO', 'I-JURISPRUDENCIA', 'I-LEGISLACAO', 'I-LOCAL', 'I-ORGANIZACAO', 'I-PESSOA', 'I-TEMPO', 'O']\n"
          ]
        }
      ],
      "source": [
        "all_tokens = []\n",
        "all_labels = []\n",
        "ids_sentences= []\n",
        "\n",
        "for i, sentence in enumerate(training_sentences):\n",
        "  for token_text, ner_tag in sentence:\n",
        "    all_tokens.append(token_text)\n",
        "    all_labels.append(ner_tag)\n",
        "    ids_sentences.append(i)\n",
        "\n",
        "print(f\"\\nTotal tokens in the training data: {len(all_tokens)}\")\n",
        "print(f\"Unique LeNER-Br labels: {sorted(list(set(all_labels)))}\")"
      ]
    },
    {
      "cell_type": "markdown",
      "metadata": {
        "id": "QYIvrgZpnSTf"
      },
      "source": [
        "We have a total of 13 unique labels in our dataset. Below is an explanation of the meaning of each one:\n",
        "\n",
        "* **`B-JURISPRUDENCIA`**:\n",
        "    * **B**: Indicates that this token is the **beginning** of a named entity.\n",
        "    * **JURISPRUDENCIA**: Indicates that the named entity is of type \"Jurisprudence\". Refers to judicial decisions, rulings, precedents, or any set of interpretations of laws made by courts.\n",
        "    * *Example*: In the text \"Conforme o **Acórdão** nº 123...\" (According to Ruling No. 123...), \"Acórdão\" could be `B-JURISPRUDENCIA`.\n",
        "\n",
        "* **`B-LEGISLACAO`**:\n",
        "    * **B**: Beginning of the entity.\n",
        "    * **LEGISLACAO**: Indicates that the named entity is of type \"Legislation\". Refers to laws, decrees, ordinances, codes, constitutions, etc.\n",
        "    * *Example*: In the text \"A **Lei** nº 8.666/93...\" (Law No. 8.666/93...), \"Lei\" could be `B-LEGISLACAO`.\n",
        "\n",
        "* **`B-LOCAL`**:\n",
        "    * **B**: Beginning of the entity.\n",
        "    * **LOCAL**: Indicates that the named entity is a \"Location\". It can be a city, state, country, address, geographical feature, etc.\n",
        "    * *Example*: In the text \"Ele viajou para **Paris**...\" (He traveled to Paris...), \"Paris\" would be `B-LOCAL`.\n",
        "\n",
        "* **`B-ORGANIZACAO`**:\n",
        "    * **B**: Beginning of the entity.\n",
        "    * **ORGANIZACAO**: Indicates that the named entity is an \"Organization\". Includes companies, government institutions, NGOs, sports teams, etc.\n",
        "    * *Example*: In the text \"O **Google** anunciou...\" (Google announced...), \"Google\" would be `B-ORGANIZACAO`.\n",
        "\n",
        "* **`B-PESSOA`**:\n",
        "    * **B**: Beginning of the entity.\n",
        "    * **PESSOA**: Indicates that the named entity is a \"Person\". Refers to names of individuals.\n",
        "    * *Example*: In the text \"**Maria** Silva é advogada...\" (Maria Silva is a lawyer...), \"Maria\" would be `B-PESSOA`.\n",
        "\n",
        "* **`B-TEMPO`**:\n",
        "    * **B**: Beginning of the entity.\n",
        "    * **TEMPO**: Indicates that the named entity is a temporal reference. It can be a date, time, specific period (e.g., \"21st century\", \"next week\").\n",
        "    * *Example*: In the text \"A reunião será em **15 de maio**...\" (The meeting will be on May 15th...), \"15\" could be `B-TEMPO`.\n",
        "\n",
        "* **`I-JURISPRUDENCIA`**:\n",
        "    * **I**: Indicates that this token is **inside** a \"Jurisprudence\" type entity that has already begun. It is a continuation of the entity.\n",
        "    * *Example*: In the text \"...o **Superior Tribunal** de Justiça...\" (...the Superior Court of Justice...), if \"Superior\" was `B-JURISPRUDENCIA` (or `B-ORGANIZACAO` depending on the scheme), \"Tribunal\" could be `I-JURISPRUDENCIA` (or `I-ORGANIZACAO`). In the case of a long jurisprudence name, like \"Súmula **Vinculante nº** 56\" (Binding Precedent No. 56), \"Vinculante\", \"nº\", and \"56\" would be `I-JURISPRUDENCIA` if \"Súmula\" was `B-JURISPRUDENCIA`.\n",
        "\n",
        "* **`I-LEGISLACAO`**:\n",
        "    * **I**: Inside a \"Legislation\" type entity.\n",
        "    * *Example*: In the text \"A **Lei de Licitações**...\" (The Bidding Law...), if \"Lei\" was `B-LEGISLACAO`, \"de\" and \"Licitações\" would be `I-LEGISLACAO`.\n",
        "\n",
        "* **`I-LOCAL`**:\n",
        "    * **I**: Inside a \"Location\" type entity.\n",
        "    * *Example*: In the text \"Ele mora em **Nova York**...\" (He lives in New York...), if \"Nova\" was `B-LOCAL`, \"York\" would be `I-LOCAL`.\n",
        "\n",
        "* **`I-ORGANIZACAO`**:\n",
        "    * **I**: Inside an \"Organization\" type entity.\n",
        "    * *Example*: In the text \"O **Banco Central** do Brasil...\" (The Central Bank of Brazil...), if \"Banco\" was `B-ORGANIZACAO`, \"Central\" would be `I-ORGANIZACAO`.\n",
        "\n",
        "* **`I-PESSOA`**:\n",
        "    * **I**: Inside a \"Person\" type entity.\n",
        "    * *Example*: In the text \"**Maria Joaquina** da Silva...\", if \"Maria\" was `B-PESSOA`, \"Joaquina\" would be `I-PESSOA`.\n",
        "\n",
        "* **`I-TEMPO`**:\n",
        "    * **I**: Inside a \"Time\" type entity.\n",
        "    * *Example*: In the text \"A reunião será em **15 de maio de 2025**...\" (The meeting will be on May 15, 2025...), if \"15\" was `B-TEMPO`, \"de\", \"maio\", \"de\", and \"2025\" would be `I-TEMPO`.\n",
        "\n",
        "* **`O`**:\n",
        "    * **O**: Indicates that the token is **outside** any named entity. It is a common token that is not part of a specific category of interest.\n",
        "    * *Example*: In the text \"O gato **sentou** no tapete.\" (The cat sat on the carpet.), \"sentou\" would be `O`.\n"
      ]
    },
    {
      "cell_type": "code",
      "execution_count": null,
      "metadata": {
        "colab": {
          "base_uri": "https://localhost:8080/"
        },
        "id": "wx7eBlPHbxmf",
        "outputId": "42edf9d2-c983-4c45-cf59-f3a97c0d2f91"
      },
      "outputs": [
        {
          "name": "stdout",
          "output_type": "stream",
          "text": [
            "Using device: cuda\n"
          ]
        }
      ],
      "source": [
        "import numpy as np\n",
        "import torch\n",
        "\n",
        "device = torch.device(\"cuda\" if torch.cuda.is_available() else \"cpu\")\n",
        "print(f\"Using device: {device}\")\n",
        "\n",
        "EFFECTIVE_MAX_LENGTH = 512\n",
        "\n",
        "model_hf.to(device)\n",
        "model_hf.eval()\n",
        "\n",
        "features_tokens = []\n",
        "\n",
        "for i_sent, sentence_data in enumerate(training_sentences):\n",
        "    sentence_texts = [token_data[0] for token_data in sentence_data]\n",
        "\n",
        "    if not sentence_texts:\n",
        "        continue\n",
        "\n",
        "    inputs = tokenizer_hf(\n",
        "        sentence_texts,\n",
        "        is_split_into_words=True,\n",
        "        return_tensors=\"pt\",\n",
        "        padding=\"longest\",\n",
        "        truncation=True,\n",
        "        max_length=EFFECTIVE_MAX_LENGTH\n",
        "    ).to(device)\n",
        "\n",
        "    word_ids = inputs.word_ids()\n",
        "    with torch.no_grad():\n",
        "        outputs = model_hf(**inputs)\n",
        "        last_hidden_state = outputs.last_hidden_state\n",
        "\n",
        "    token_subword_embeddings = [[] for _ in range(len(sentence_texts))]\n",
        "\n",
        "    for subword_idx, original_word_idx in enumerate(word_ids):\n",
        "        if original_word_idx is not None:\n",
        "            embedding = last_hidden_state[0, subword_idx, :]\n",
        "            token_subword_embeddings[original_word_idx].append(embedding)\n",
        "\n",
        "    current_sentence_token_features = []\n",
        "    for original_token_idx in range(len(sentence_texts)):\n",
        "        if token_subword_embeddings[original_token_idx]:\n",
        "            stacked_embeddings = torch.stack(token_subword_embeddings[original_token_idx])\n",
        "            mean_embedding = torch.mean(stacked_embeddings, dim=0)\n",
        "            current_sentence_token_features.append(mean_embedding.cpu().numpy())\n",
        "        else:\n",
        "            current_sentence_token_features.append(np.zeros(model_hf.config.hidden_size))\n",
        "\n",
        "    features_tokens.extend(current_sentence_token_features)\n"
      ]
    },
    {
      "cell_type": "code",
      "execution_count": null,
      "metadata": {
        "colab": {
          "base_uri": "https://localhost:8080/"
        },
        "id": "BilVsoQncfZi",
        "outputId": "30a15124-0950-4efc-a2f5-7a76da1ca78a"
      },
      "outputs": [
        {
          "name": "stdout",
          "output_type": "stream",
          "text": [
            "Shape of the token features matrix: (229277, 1024)\n"
          ]
        }
      ],
      "source": [
        "features_tokens = np.array(features_tokens)\n",
        "print(f\"Shape of the token features matrix: {features_tokens.shape}\")"
      ]
    },
    {
      "cell_type": "markdown",
      "metadata": {
        "id": "BxJ31i-urTjS"
      },
      "source": [
        "# Model Training\n",
        "\n",
        "We need to train a model for use with the cleanlab library. Initially, the NER labels are transformed using LabelEncoder, which converts the labels into numbers for use in the chosen model.\n",
        "\n",
        "In the actual training of our model, we divide our dataset (`features_tokens` and `labels_ner_codificados`) into two parts: one for training (`X_treino`,`y_treino`) and another for testing (`X_teste`, `y_teste`). We use 25% of the data for the test set and ensure that the proportion of different NER label classes is maintained in both splits, thanks to the stratify parameter. Next, we prepare an array called `probabilidades_preditas_teste`, which will store the probabilities of each class that our model will assign to the examples in the test set.\n",
        "\n",
        "Then, we define and train our classification model. We opted for an SGDClassifier (Stochastic Gradient Descent Classifier). It works by adjusting the parameters of a linear model (in this case, configured to behave like a Logistic Regression using loss='log_loss') iteratively, processing one sample at a time, making it fast and scalable. After training the model, we use it to predict the class probabilities for the `X_teste` set, storing them in `probabilidades_preditas_teste`. Finally, we also calculate and display the model's accuracy on this test set, comparing the predictions with the true y_teste labels.\n",
        "\n",
        "A KFold strategy with 5 folds was used to go through the entire dataset separately and independently to obtain out-of-sample predictions for every instance."
      ]
    },
    {
      "cell_type": "code",
      "execution_count": null,
      "metadata": {
        "id": "EKa34kR3g95n"
      },
      "outputs": [],
      "source": [
        "label_encoder = LabelEncoder()\n",
        "ner_labels_encoded = label_encoder.fit_transform(all_labels)\n",
        "num_classes = len(label_encoder.classes_)"
      ]
    },
    {
      "cell_type": "markdown",
      "metadata": {
        "id": "4xu4qFf13xNY"
      },
      "source": [
        "# Issues Found with the Dataset\n",
        "\n",
        "Now we delve into the actual application of confident learning techniques. Initially, we use the `find_label_issues` function from the cleanlab library to identify potentially mislabeled tokens in our NER dataset. We pass the encoded labels (`ner_labels_encoded`) and the model's predicted probabilities (`predicted_probabilities`) as input."
      ]
    },
    {
      "cell_type": "code",
      "execution_count": null,
      "metadata": {
        "colab": {
          "base_uri": "https://localhost:8080/"
        },
        "id": "S7-5LWpzcv2O",
        "outputId": "76130da3-0dc3-4784-998a-2108b18f74fa"
      },
      "outputs": [
        {
          "name": "stdout",
          "output_type": "stream",
          "text": [
            "\n",
            "Starting 5-fold cross-validation\n",
            "  Processing Fold 1/5...\n",
            "Model trained.\n",
            "    Fold 1 Accuracy: 0.9680\n",
            "  Processing Fold 2/5...\n",
            "Model trained.\n",
            "    Fold 2 Accuracy: 0.9734\n",
            "  Processing Fold 3/5...\n",
            "Model trained.\n",
            "    Fold 3 Accuracy: 0.9696\n",
            "  Processing Fold 4/5...\n",
            "Model trained.\n",
            "    Fold 4 Accuracy: 0.9720\n",
            "  Processing Fold 5/5...\n",
            "Model trained.\n",
            "    Fold 5 Accuracy: 0.9719\n",
            "\n",
            "Collection of out-of-sample predicted probabilities finished.\n",
            "Shape of the predicted probabilities matrix: (229277, 13)\n"
          ]
        }
      ],
      "source": [
        "skf = StratifiedKFold(n_splits=NUM_FOLDS_CV, shuffle=True, random_state=RANDOM_SEED)\n",
        "predicted_probabilities = np.zeros((len(features_tokens), num_classes))\n",
        "print(f\"\\nStarting {NUM_FOLDS_CV}-fold cross-validation\")\n",
        "\n",
        "for fold_index, (train_indices, validation_indices) in enumerate(skf.split(features_tokens, ner_labels_encoded)):\n",
        "    print(f\"  Processing Fold {fold_index + 1}/{NUM_FOLDS_CV}...\")\n",
        "    X_train, X_validation = features_tokens[train_indices], features_tokens[validation_indices]\n",
        "    y_train, y_validation = ner_labels_encoded[train_indices], ner_labels_encoded[validation_indices]\n",
        "\n",
        "    model = SGDClassifier(\n",
        "            loss='log_loss',\n",
        "            penalty='l2',\n",
        "            alpha=0.0001,\n",
        "            max_iter=1000,\n",
        "            tol=1e-3,\n",
        "            random_state=RANDOM_SEED,\n",
        "            class_weight='balanced',\n",
        "            learning_rate='optimal',\n",
        "            early_stopping=True,\n",
        "            n_iter_no_change=10,\n",
        "            validation_fraction=0.1\n",
        "        )\n",
        "\n",
        "    model.fit(X_train, y_train)\n",
        "    print(\"Model trained.\")\n",
        "    fold_predicted_probabilities = model.predict_proba(X_validation)\n",
        "    predicted_probabilities[validation_indices] = fold_predicted_probabilities\n",
        "\n",
        "    fold_predictions = model.predict(X_validation)\n",
        "    fold_accuracy = accuracy_score(y_validation, fold_predictions)\n",
        "    print(f\"    Fold {fold_index + 1} Accuracy: {fold_accuracy:.4f}\")\n",
        "\n",
        "print(\"\\nCollection of out-of-sample predicted probabilities finished.\")\n",
        "print(f\"Shape of the predicted probabilities matrix: {predicted_probabilities.shape}\")"
      ]
    },
    {
      "cell_type": "code",
      "execution_count": null,
      "metadata": {
        "colab": {
          "base_uri": "https://localhost:8080/"
        },
        "id": "YcEe1bHWiMzE",
        "outputId": "11af0741-5daa-4dd8-884f-cdb3b672d41b"
      },
      "outputs": [
        {
          "name": "stdout",
          "output_type": "stream",
          "text": [
            "\n",
            "Identifying labeling issues with cleanlab...\n",
            "Cleanlab identified 2326 potential labeling issues.\n",
            "This represents 1.01% of the total tokens.\n"
          ]
        }
      ],
      "source": [
        "print(\"\\nIdentifying labeling issues with cleanlab...\")\n",
        "\n",
        "label_issue_indices = find_label_issues(\n",
        "        labels=ner_labels_encoded,\n",
        "        pred_probs=predicted_probabilities,\n",
        "        return_indices_ranked_by='self_confidence'\n",
        "    )\n",
        "\n",
        "num_issues_found = len(label_issue_indices)\n",
        "print(f\"Cleanlab identified {num_issues_found} potential labeling issues.\")\n",
        "percentage_issues = (num_issues_found / len(all_tokens)) * 100\n",
        "print(f\"This represents {percentage_issues:.2f}% of the total tokens.\")"
      ]
    },
    {
      "cell_type": "markdown",
      "metadata": {
        "id": "4AkTKFjaN84c"
      },
      "source": [
        "\n",
        "Next, we iterate through the indices of tokens that have potential annotation errors in the NER dataset, comparing the original labels with the model's suggested labels. For each token identified as problematic, we retrieve the token and its label, and transform it to its textual form using the label_encoder (method `inverse_transform`).\n",
        "\n",
        "Then, we identify the label predicted by the model with the highest probability and also decode it. We calculate the model's confidence in the original label and retrieve the identifier of the sentence to which the token belongs. Finally, we gather all this information into a list of `dicts` (`issues_for_review`).\n",
        "\n",
        "The stored `dict` has the following fields that will be useful for our subsequent analysis:\n",
        "\n",
        "* `global_token_index`: position of the token in our list of all tokens in our dataset\n",
        "* `sentence_id`: identifier of the problematic sentence\n",
        "* `original_label`: the label associated with the token in the dataset\n",
        "* `model_suggested_label`: the label our model suggests for the token\n",
        "* `model_confidence_in_original_label`: the probability the model assigns to the original label. Low values mean our model is not very confident that the original label is correct.\n",
        "* `full_sentence_context`: complete sentence where the problematic token was found. It will be used to visualize the problems that will be addressed in a later step.\n"
      ]
    },
    {
      "cell_type": "code",
      "execution_count": null,
      "metadata": {
        "id": "L8eNCoDMiPRU"
      },
      "outputs": [],
      "source": [
        "issues_for_review = []\n",
        "for global_token_index in label_issue_indices:\n",
        "    original_token = all_tokens[global_token_index]\n",
        "    original_label_encoded = ner_labels_encoded[global_token_index]\n",
        "    original_label_str = label_encoder.inverse_transform([original_label_encoded])[0]\n",
        "    predicted_label_encoded = np.argmax(predicted_probabilities[global_token_index])\n",
        "    predicted_label_str = label_encoder.inverse_transform([predicted_label_encoded])[0]\n",
        "\n",
        "    confidence_in_original = predicted_probabilities[global_token_index, original_label_encoded]\n",
        "\n",
        "    sent_id = ids_sentences[global_token_index]\n",
        "\n",
        "    issues_for_review.append({\n",
        "        \"global_token_index\": global_token_index,\n",
        "        \"sentence_id\": sent_id,\n",
        "        \"token\": original_token,\n",
        "        \"original_label\": original_label_str,\n",
        "        \"model_suggested_label\": predicted_label_str,\n",
        "        \"model_confidence_in_original_label\": confidence_in_original,\n",
        "        \"full_sentence_context\": training_sentences[sent_id]\n",
        "    })\n"
      ]
    },
    {
      "cell_type": "markdown",
      "metadata": {
        "id": "zfgj-RnWJB_U"
      },
      "source": [
        "We sort the issues by the lowest model confidence in the originally provided labels and then we visualize the issues found. In the following loop, we have the 20 issues with the lowest model confidence in the original label, i.e., highest distrust."
      ]
    },
    {
      "cell_type": "code",
      "execution_count": null,
      "metadata": {
        "colab": {
          "base_uri": "https://localhost:8080/"
        },
        "id": "ow2pyxdjzSEm",
        "outputId": "b1d80f28-3776-436e-f0f4-66539d7ab745"
      },
      "outputs": [
        {
          "name": "stdout",
          "output_type": "stream",
          "text": [
            "\n",
            "Problem #1 (Global Token Index: 138519)\n",
            "  Sentence ID: 4905\n",
            "  Token: 'artigo'\n",
            "  Original Label: B-LOCAL\n",
            "  Model Suggested Label: B-LEGISLACAO\n",
            "  Model Confidence in Original Label: 0.0000\n",
            "  Context (±10 words): Logo(O) ,(O) tem-se(O) que(O) o(O) **artigo**(Original:B-LOCAL|Suggested:B-LEGISLACAO)** 276(I-LOCAL) do(I-LOCAL) Decreto(I-LOCAL) nº(I-LOCAL) 3.048/99(I-LOCAL) especificamente(O) fixa(O) o(O) dia(O) dois(O)\n",
            "\n",
            "Problem #2 (Global Token Index: 122878)\n",
            "  Sentence ID: 4323\n",
            "  Token: 'Autos'\n",
            "  Original Label: B-LOCAL\n",
            "  Model Suggested Label: B-JURISPRUDENCIA\n",
            "  Model Confidence in Original Label: 0.0000\n",
            "  Context (±10 words): 68(O) 3302-0444/0445(O) ,(O) Rio(B-LOCAL) Branco-AC(I-LOCAL) -(O) Mod(O) .(O) 500258(O) -(O) **Autos**(Original:B-LOCAL|Suggested:B-JURISPRUDENCIA)** n.º(I-LOCAL) 1002199-81.2017.8.01.0000/50000(I-LOCAL) ARAÚJO(O) ,(O) QUARTA(B-ORGANIZACAO) TURMA(I-ORGANIZACAO) ,(O) julgado(O) em(O) 09/05/2017(B-TEMPO)\n",
            "\n",
            "Problem #3 (Global Token Index: 33548)\n",
            "  Sentence ID: 1067\n",
            "  Token: ','\n",
            "  Original Label: I-LOCAL\n",
            "  Model Suggested Label: O\n",
            "  Model Confidence in Original Label: 0.0000\n",
            "  Context (±10 words): CONSTRUÇÃO(O) E(O) ALTERA(O) O(O) USO(O) DE(O) LOTES(O) NA(O) QUADRA(B-LOCAL) 1(I-LOCAL) **,**(Original:I-LOCAL|Suggested:O)** DO(I-LOCAL) SETOR(I-LOCAL) DE(I-LOCAL) INDÚSTRIAS(I-LOCAL) GRÁFICAS(I-LOCAL) ,(O) NA(O) REGIÃO(B-LOCAL) ADMINISTRATIVA(I-LOCAL) DO(I-LOCAL)\n",
            "\n",
            "Problem #4 (Global Token Index: 122879)\n",
            "  Sentence ID: 4323\n",
            "  Token: 'n.º'\n",
            "  Original Label: I-LOCAL\n",
            "  Model Suggested Label: I-JURISPRUDENCIA\n",
            "  Model Confidence in Original Label: 0.0000\n",
            "  Context (±10 words): 3302-0444/0445(O) ,(O) Rio(B-LOCAL) Branco-AC(I-LOCAL) -(O) Mod(O) .(O) 500258(O) -(O) Autos(B-LOCAL) **n.º**(Original:I-LOCAL|Suggested:I-JURISPRUDENCIA)** 1002199-81.2017.8.01.0000/50000(I-LOCAL) ARAÚJO(O) ,(O) QUARTA(B-ORGANIZACAO) TURMA(I-ORGANIZACAO) ,(O) julgado(O) em(O) 09/05/2017(B-TEMPO) ,(O)\n",
            "\n",
            "Problem #5 (Global Token Index: 56502)\n",
            "  Sentence ID: 1863\n",
            "  Token: 'TAPE'\n",
            "  Original Label: B-LOCAL\n",
            "  Model Suggested Label: O\n",
            "  Model Confidence in Original Label: 0.0000\n",
            "  Context (±10 words): COMPROMISSO(O) É(O) COM(O) A(O) VERDADE(O) POR(O) ISSO(O) O(O) PSDB(B-ORGANIZACAO) 1(O) **TAPE**(Original:B-LOCAL|Suggested:O)** VI(I-LOCAL) APOIA(O) IGOR(B-PESSOA) E(O) TECO(B-PESSOA) .(O)\n",
            "\n",
            "Problem #6 (Global Token Index: 138520)\n",
            "  Sentence ID: 4905\n",
            "  Token: '276'\n",
            "  Original Label: I-LOCAL\n",
            "  Model Suggested Label: I-LEGISLACAO\n",
            "  Model Confidence in Original Label: 0.0000\n",
            "  Context (±10 words): Logo(O) ,(O) tem-se(O) que(O) o(O) artigo(B-LOCAL) **276**(Original:I-LOCAL|Suggested:I-LEGISLACAO)** do(I-LOCAL) Decreto(I-LOCAL) nº(I-LOCAL) 3.048/99(I-LOCAL) especificamente(O) fixa(O) o(O) dia(O) dois(O) do(O)\n",
            "\n",
            "Problem #7 (Global Token Index: 173708)\n",
            "  Sentence ID: 6020\n",
            "  Token: 'Penal'\n",
            "  Original Label: I-TEMPO\n",
            "  Model Suggested Label: I-LEGISLACAO\n",
            "  Model Confidence in Original Label: 0.0000\n",
            "  Context (±10 words): 2.848(I-LEGISLACAO) ,(O) de(O) 7(B-TEMPO) de(I-TEMPO) dezembro(I-TEMPO) de(I-TEMPO) 1940(I-TEMPO) ((O) Código(B-TEMPO) **Penal**(Original:I-TEMPO|Suggested:I-LEGISLACAO)** )(O) ,(O) passa(O) a(O) vigorar(O) com(O) as(O) seguintes(O) alterações(O) :(O)\n",
            "\n",
            "Problem #8 (Global Token Index: 45419)\n",
            "  Sentence ID: 1482\n",
            "  Token: 'única'\n",
            "  Original Label: I-LOCAL\n",
            "  Model Suggested Label: I-ORGANIZACAO\n",
            "  Model Confidence in Original Label: 0.0000\n",
            "  Context (±10 words): fls(O) .(O) 23-TJ(O) pelo(O) douto(O) Juiz(O) de(O) Direito(O) da(O) Vara(B-LOCAL) **única**(Original:I-LOCAL|Suggested:I-ORGANIZACAO)** da(I-LOCAL) Comarca(I-LOCAL) de(I-LOCAL) Santa(I-LOCAL) Maria(I-LOCAL) do(I-LOCAL) Suaçuí/MG(I-LOCAL) ,(O) que(O) indeferiu(O)\n",
            "\n",
            "Problem #9 (Global Token Index: 122880)\n",
            "  Sentence ID: 4323\n",
            "  Token: '1002199-81.2017.8.01.0000/50000'\n",
            "  Original Label: I-LOCAL\n",
            "  Model Suggested Label: I-JURISPRUDENCIA\n",
            "  Model Confidence in Original Label: 0.0000\n",
            "  Context (±10 words): ,(O) Rio(B-LOCAL) Branco-AC(I-LOCAL) -(O) Mod(O) .(O) 500258(O) -(O) Autos(B-LOCAL) n.º(I-LOCAL) **1002199-81.2017.8.01.0000/50000**(Original:I-LOCAL|Suggested:I-JURISPRUDENCIA)** ARAÚJO(O) ,(O) QUARTA(B-ORGANIZACAO) TURMA(I-ORGANIZACAO) ,(O) julgado(O) em(O) 09/05/2017(B-TEMPO) ,(O) DJe(O)\n",
            "\n",
            "Problem #10 (Global Token Index: 28356)\n",
            "  Sentence ID: 943\n",
            "  Token: 'Estrada'\n",
            "  Original Label: I-LOCAL\n",
            "  Model Suggested Label: B-LOCAL\n",
            "  Model Confidence in Original Label: 0.0000\n",
            "  Context (±10 words): conformidade(O) com(O) as(O) seguintes(O) especificações(O) :(O) I(O) localização(O) :(O) DF-001(B-LOCAL) **Estrada**(Original:I-LOCAL|Suggested:B-LOCAL)** Parque(I-LOCAL) Contorno(I-LOCAL) EPCT(I-LOCAL) ,(O) km(O) 12,8(O) ,(O) na(O) Região(B-LOCAL) Administrativa(I-LOCAL)\n",
            "\n",
            "Problem #11 (Global Token Index: 57701)\n",
            "  Sentence ID: 1912\n",
            "  Token: 'Ceará'\n",
            "  Original Label: B-LOCAL\n",
            "  Model Suggested Label: I-ORGANIZACAO\n",
            "  Model Confidence in Original Label: 0.0000\n",
            "  Context (±10 words): ementas(O) de(O) julgados(O) dos(O) TREs(O) de(O) Minas(B-LOCAL) Gerais(I-LOCAL) e(O) do(O) **Ceará**(Original:B-LOCAL|Suggested:I-ORGANIZACAO)** .(O)\n",
            "\n",
            "Problem #12 (Global Token Index: 54465)\n",
            "  Sentence ID: 1795\n",
            "  Token: '27/02/2015'\n",
            "  Original Label: B-PESSOA\n",
            "  Model Suggested Label: B-TEMPO\n",
            "  Model Confidence in Original Label: 0.0000\n",
            "  Context (±10 words): MOURA(I-PESSOA) ,(O) SEXTA(B-ORGANIZACAO) TURMA(I-ORGANIZACAO) ,(O) julgado(O) em(O) 09/12/2014(B-TEMPO) ,(O) DJe(O) **27/02/2015**(Original:B-PESSOA|Suggested:B-TEMPO)** ;(O) HC(B-JURISPRUDENCIA) 312.391/SP(I-JURISPRUDENCIA) ,(O) Rel(O) .(O) Ministro(O) FELIX(B-PESSOA) FISCHER(I-PESSOA) ,(O)\n",
            "\n",
            "Problem #13 (Global Token Index: 96444)\n",
            "  Sentence ID: 3240\n",
            "  Token: 'artigo'\n",
            "  Original Label: B-ORGANIZACAO\n",
            "  Model Suggested Label: B-LEGISLACAO\n",
            "  Model Confidence in Original Label: 0.0000\n",
            "  Context (±10 words): não(O) concretização(O) ,(O) pelo(O) paciente(O) ,(O) do(O) tipo(O) previsto(O) no(O) **artigo**(Original:B-ORGANIZACAO|Suggested:B-LEGISLACAO)** 187(I-ORGANIZACAO) do(I-ORGANIZACAO) Código(I-ORGANIZACAO) Penal(I-ORGANIZACAO) Militar(I-ORGANIZACAO) -(O) Crime(O) de(O) Deserção(O) -(O)\n",
            "\n",
            "Problem #14 (Global Token Index: 9642)\n",
            "  Sentence ID: 341\n",
            "  Token: 'período'\n",
            "  Original Label: B-TEMPO\n",
            "  Model Suggested Label: O\n",
            "  Model Confidence in Original Label: 0.0000\n",
            "  Context (±10 words): $(O) 30.000,00(O) ((O) trinta(O) mil(O) reais(O) )(O) ,(O) alusivos(O) o(O) **período**(Original:B-TEMPO|Suggested:O)** de(I-TEMPO) maio(I-TEMPO) a(I-TEMPO) novembro(I-TEMPO) de(I-TEMPO) 2014(I-TEMPO) ;(O) c(O) )(O) R(O)\n",
            "\n",
            "Problem #15 (Global Token Index: 33464)\n",
            "  Sentence ID: 1066\n",
            "  Token: 'Federal.Por'\n",
            "  Original Label: I-LOCAL\n",
            "  Model Suggested Label: O\n",
            "  Model Confidence in Original Label: 0.0000\n",
            "  Context (±10 words): iniciativa(O) do(O) processo(O) legislativo(O) compete(O) privativamente(O) ao(O) Governador(O) do(O) Distrito(B-LOCAL) **Federal.Por**(Original:I-LOCAL|Suggested:O)** isso(O) mesmo(O) ,(O) demonstrado(O) que(O) a(O) iniciativa(O) das(O) leis(O) distritais(O)\n",
            "\n",
            "Problem #16 (Global Token Index: 84104)\n",
            "  Sentence ID: 2801\n",
            "  Token: 'Porta-Aviões'\n",
            "  Original Label: B-LOCAL\n",
            "  Model Suggested Label: I-LOCAL\n",
            "  Model Confidence in Original Label: 0.0000\n",
            "  Context (±10 words): ((O) ...(O) )(O) que(O) conheceu(O) o(O) Acusado(O) quando(O) serviu(O) no(O) **Porta-Aviões**(Original:B-LOCAL|Suggested:I-LOCAL)** São(I-LOCAL) Paulo(I-LOCAL) ;(O) ((O) ...(O) )(O) que(O) o(O) endereço(O) do(O)\n",
            "\n",
            "Problem #17 (Global Token Index: 138521)\n",
            "  Sentence ID: 4905\n",
            "  Token: 'do'\n",
            "  Original Label: I-LOCAL\n",
            "  Model Suggested Label: I-LEGISLACAO\n",
            "  Model Confidence in Original Label: 0.0000\n",
            "  Context (±10 words): Logo(O) ,(O) tem-se(O) que(O) o(O) artigo(B-LOCAL) 276(I-LOCAL) **do**(Original:I-LOCAL|Suggested:I-LEGISLACAO)** Decreto(I-LOCAL) nº(I-LOCAL) 3.048/99(I-LOCAL) especificamente(O) fixa(O) o(O) dia(O) dois(O) do(O) mês(O)\n",
            "\n",
            "Problem #18 (Global Token Index: 181082)\n",
            "  Sentence ID: 6176\n",
            "  Token: 'Automóvel'\n",
            "  Original Label: I-LOCAL\n",
            "  Model Suggested Label: B-LOCAL\n",
            "  Model Confidence in Original Label: 0.0000\n",
            "  Context (±10 words): -(O) São(B-LOCAL) Sebastião(I-LOCAL) ;(O) XXVII(O) -(O) SCIA(B-LOCAL) ((O) Cidade(B-LOCAL) do(I-LOCAL) **Automóvel**(Original:I-LOCAL|Suggested:B-LOCAL)** e(O) Estrutural(B-LOCAL) )(O) ;(O) XXVIII(O) -(O) SIA(B-LOCAL) e(O) Setores(O) Complementares(O)\n",
            "\n",
            "Problem #19 (Global Token Index: 45418)\n",
            "  Sentence ID: 1482\n",
            "  Token: 'Vara'\n",
            "  Original Label: B-LOCAL\n",
            "  Model Suggested Label: I-ORGANIZACAO\n",
            "  Model Confidence in Original Label: 0.0000\n",
            "  Context (±10 words): às(O) fls(O) .(O) 23-TJ(O) pelo(O) douto(O) Juiz(O) de(O) Direito(O) da(O) **Vara**(Original:B-LOCAL|Suggested:I-ORGANIZACAO)** única(I-LOCAL) da(I-LOCAL) Comarca(I-LOCAL) de(I-LOCAL) Santa(I-LOCAL) Maria(I-LOCAL) do(I-LOCAL) Suaçuí/MG(I-LOCAL) ,(O) que(O)\n",
            "\n",
            "Problem #20 (Global Token Index: 9667)\n",
            "  Sentence ID: 341\n",
            "  Token: 'período'\n",
            "  Original Label: B-TEMPO\n",
            "  Model Suggested Label: O\n",
            "  Model Confidence in Original Label: 0.0000\n",
            "  Context (±10 words): e(O) cinco(O) mil(O) reais(O) )(O) por(O) cada(O) mês(O) referente(O) ao(O) **período**(Original:B-TEMPO|Suggested:O)** de(I-TEMPO) novembro(I-TEMPO) de(I-TEMPO) 2014(I-TEMPO) outubro(I-TEMPO) de(I-TEMPO) 2015(I-TEMPO) ((O) data(O) da(O)\n",
            "\n",
            "End of issue display.\n"
          ]
        }
      ],
      "source": [
        "sorted_issues_for_review = sorted(issues_for_review, key=lambda x: x['model_confidence_in_original_label'])\n",
        "\n",
        "for i, issue in enumerate(sorted_issues_for_review[:min(20, num_issues_found)]):\n",
        "    print(f\"\\nProblem #{i+1} (Global Token Index: {issue['global_token_index']})\")\n",
        "    print(f\"  Sentence ID: {issue['sentence_id']}\")\n",
        "    print(f\"  Token: '{issue['token']}'\")\n",
        "    print(f\"  Original Label: {issue['original_label']}\")\n",
        "    print(f\"  Model Suggested Label: {issue['model_suggested_label']}\")\n",
        "    print(f\"  Model Confidence in Original Label: {issue['model_confidence_in_original_label']:.4f}\")\n",
        "\n",
        "    sentence_tokens_tags = issue['full_sentence_context']\n",
        "\n",
        "    first_token_index_in_global_dataset = -1\n",
        "    for global_idx, global_sent_id in enumerate(ids_sentences):\n",
        "        if global_sent_id == issue['sentence_id']:\n",
        "            first_token_index_in_global_dataset = global_idx\n",
        "            break\n",
        "\n",
        "    token_position_in_sentence = issue['global_token_index'] - first_token_index_in_global_dataset\n",
        "\n",
        "    if not (0 <= token_position_in_sentence < len(sentence_tokens_tags)) or \\\n",
        "       sentence_tokens_tags[token_position_in_sentence][0] != issue['token']:\n",
        "        found_in_fallback = False\n",
        "        for sent_idx, (sent_tk, _) in enumerate(sentence_tokens_tags):\n",
        "            if sent_tk == issue['token']:\n",
        "                token_position_in_sentence = sent_idx\n",
        "                found_in_fallback = True\n",
        "                break\n",
        "        if not found_in_fallback:\n",
        "            print(f\"  WARNING: Could not reliably determine token position for context display for token '{issue['token']}'.\")\n",
        "            continue\n",
        "\n",
        "    context_window = 10\n",
        "\n",
        "    prev_ctx_start = max(0, token_position_in_sentence - context_window)\n",
        "    previous_context_data = sentence_tokens_tags[prev_ctx_start : token_position_in_sentence]\n",
        "    formatted_previous_context = [f\"{tk}({tag})\" for tk, tag in previous_context_data]\n",
        "\n",
        "    problematic_token_text = issue['token']\n",
        "    problematic_original_label = issue['original_label']\n",
        "    problematic_suggested_label = issue['model_suggested_label']\n",
        "    highlighted_token_str = f\"**{problematic_token_text}**(Original:{problematic_original_label}|Suggested:{problematic_suggested_label})**\"\n",
        "\n",
        "    post_ctx_start = token_position_in_sentence + 1\n",
        "    post_ctx_end = min(len(sentence_tokens_tags), post_ctx_start + context_window)\n",
        "    subsequent_context_data = sentence_tokens_tags[post_ctx_start : post_ctx_end]\n",
        "    formatted_subsequent_context = [f\"{tk}({tag})\" for tk, tag in subsequent_context_data]\n",
        "\n",
        "    final_context_parts = []\n",
        "    if formatted_previous_context:\n",
        "        final_context_parts.append(\" \".join(formatted_previous_context))\n",
        "\n",
        "    final_context_parts.append(highlighted_token_str)\n",
        "\n",
        "    if formatted_subsequent_context:\n",
        "        final_context_parts.append(\" \".join(formatted_subsequent_context))\n",
        "\n",
        "    print(f\"  Context (±{context_window} words): {' '.join(final_context_parts)}\")\n",
        "\n",
        "print(\"\\nEnd of issue display.\")\n"
      ]
    },
    {
      "cell_type": "markdown",
      "metadata": {
        "id": "Iv_Az5ghjnRh"
      },
      "source": [
        "At this point, we analyze the output of our confident learning model. We see that in the first identified problems, the model correctly pointed out errors in human annotation. Problems #1 and #2 are clearly examples of erroneously registered legislation: \\*\\*artigo\\*\\*(Original:B-LOCAL|Suggested:B-LEGISLACAO)\\*\\* 276(I-LOCAL) and \\*\\*Autos\\*\\*(Original:B-LOCAL|Suggested:B-JURISPRUDENCIA)\\*\\* n.º(I-LOCAL) 1002199-81.2017.8.01.0000/50000(I-LOCAL).\n",
        "\n",
        "However, there are examples where our model was confused in pointing out problems in original labels. In problem #3, the comma in the address QUADRA(B-LOCAL) 1(I-LOCAL) \\*\\* , \\*\\*(Original:I-LOCAL|Suggested:O)** DO(I-LOCAL) SETOR(I-LOCAL) DE(I-LOCAL) INDÚSTRIAS(I-LOCAL) GRÁFICAS(I-LOCAL) should, in fact, be considered part of the LOCAL label.\n",
        "\n",
        "Despite the example of the model's mistake, its efficiency in identifying problematic labels is noticeable, attesting to the effectiveness of the applied technique.\n",
        "\n"
      ]
    },
    {
      "cell_type": "markdown",
      "metadata": {
        "id": "8_k9BQoRN5Tz"
      },
      "source": [
        "# Conclusion\n",
        "\n",
        "In this notebook, we applied Confident Learning techniques using the cleanlab library to detect annotation errors in the LeNER-Br dataset, widely used in Named Entity Recognition (NER) tasks in the Portuguese language.\n",
        "\n",
        "We automatically identified several inconsistent labels between human annotations and the trained model's predictions, based on low confidence criteria. It was observed that many of the errors pointed out by the model indeed indicated labeling flaws in the original set, such as the mistaken annotation of legal expressions and jurisprudence names as locations.\n",
        "\n",
        "Although some false positives were identified — such as the case of the comma in the address incorrectly classified by the model — the results demonstrate the relevance of the technique for auditing and refining manually annotated datasets.\n",
        "\n",
        "We conclude that the use of Confident Learning represents an effective approach for improving the quality of annotated datasets, especially in sensitive tasks like legal NER, where annotation errors can significantly impact model performance.\n",
        "\n",
        "As a future step, the application of automated or semi-automated retagging techniques is recommended to correct the labels identified as problematic, using the model's highest confidence predictions as an initial suggestion for human review."
      ]
    }
  ],
  "metadata": {
    "accelerator": "GPU",
    "colab": {
      "gpuType": "L4",
      "include_colab_link": true,
      "machine_shape": "hm",
      "provenance": []
    },
    "colabEditorOptions": {
      "tabSize": 2,
      "useTabs": false
    },
    "kernelspec": {
      "display_name": "Python 3",
      "name": "python3"
    },
    "language_info": {
      "name": "python"
    }
  },
  "nbformat": 4,
  "nbformat_minor": 0
}
